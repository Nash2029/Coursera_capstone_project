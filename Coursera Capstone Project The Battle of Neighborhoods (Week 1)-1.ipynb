{
 "cells": [
  {
   "cell_type": "markdown",
   "metadata": {},
   "source": [
    "# Coursera Capstone Project\n",
    "\n",
    "# The Battle of Neighborhoods (Week 1)\n",
    "\n",
    "## Part 1 : Introduction and Data Sections"
   ]
  },
  {
   "cell_type": "code",
   "execution_count": 1,
   "metadata": {},
   "outputs": [
    {
     "name": "stdout",
     "output_type": "stream",
     "text": [
      "Libraries imported.\n"
     ]
    }
   ],
   "source": [
    "import numpy as np # library to handle data in a vectorized manner\n",
    "import time\n",
    "import pandas as pd # library for data analsysis\n",
    "pd.set_option('display.max_columns', None)\n",
    "pd.set_option('display.max_rows', None)\n",
    "\n",
    "import json # library to handle JSON files\n",
    "import requests # library to handle requests\n",
    "from pandas.io.json import json_normalize # tranform JSON file into a pandas dataframe\n",
    "\n",
    "from geopy.geocoders import Nominatim # convert an address into latitude and longitude values\n",
    "\n",
    "import folium # map rendering library\n",
    "\n",
    "print('Libraries imported.')"
   ]
  },
  {
   "cell_type": "markdown",
   "metadata": {},
   "source": [
    "### Coursera Capstone - REPORT CONTENT\n",
    "\n",
    "1.Introduction Section : ⁃ Discussion of the business problem and the interested audience in this project.\n",
    "\n",
    "2.Data Section: ⁃ Description of the data that will be used to solve the problem and the sources.\n",
    "\n",
    "3.Methodology section ⁃ Discussion and description of exploratory data analysis carried out, any inferential statistical testing performed, and if any machine learnings were used establishing the strategy and purposes.\n",
    "\n",
    "4.Results section ⁃ Discussion of the results.\n",
    "\n",
    "5.Discussion section ⁃ Elaboration and discussion on any observations noted and any recommendations suggested based on the results.\n",
    "\n",
    "6.Conclusion section ⁃ Report Conclusion."
   ]
  },
  {
   "cell_type": "markdown",
   "metadata": {},
   "source": [
    "### 1. Introduction Section :\n",
    "\n",
    "#### Discussion of the business problem and the audience who would be interested in this project.\n",
    "\n",
    "#### Description of the Problem and Background\n",
    "\n",
    "#### Scenario:\n",
    "\n",
    "I am a business analyst residing in Southbank Melbourne. I currently live within walking distance to Melbourne CBD and Flinders station and I enjoy many amenities and venues in the area, such as various international cuisine restaurants, cafes, shopping malls and entertainment. I currently work in a bank within walking distance to my home. However, I have been offered an opportunity to work for a leading consulting firm in Manhattan, NY. They will leverage my BA skills and newly acquired data science to help their business analytics team. I am unsure about taking the role and would like to use this opportunity to dedicate my final coursera project into investigating advantages and disadvatanges of taking this offer.The key question is : How much do I need to spend in comparison to Melbourne to find an apartment with my girl friend which is as convenient and affordable as mine in Melbourne, considering the salary difference. I can use available real estate websites and Google but the idea is to use and apply myself the learned tools during the course. In order to make a comparison and evaluation of the rental options in Manhattan NY, I must set some basis, therefore the apartment in Manhattan must meet the following demands:\n",
    "\n",
    "Apartment must be 2 or 3 bedrooms\n",
    "Desired location is near a metro station in the Manhattan area and within (1.5 km) radius or less than 30 minutes walking distance.\n",
    "Price of rent not exceed $6,000 per month\n",
    "Top amenities in the selected neighborhood shall be similar to current residence\n",
    "Desirable to have venues such as coffee shops, Asian and Japanese/Korean Restaurants, gym and Grocery stores nearby.\n",
    "As a reference, I have included a map of venues near current residence in Melbourne."
   ]
  },
  {
   "cell_type": "markdown",
   "metadata": {},
   "source": [
    "#### Business Problem:\n",
    "\n",
    "The challenge is to find a suitable apartment for rent in Manhattan NY that complies with the demands on location, price and venues. The data required to resolve this challenge is described in section 2 below."
   ]
  },
  {
   "cell_type": "markdown",
   "metadata": {},
   "source": [
    "#### Interested Audience:\n",
    "\n",
    "I believe this is a relevant challenge with valid questions for anyone moving to other large city in the US, EU or Asia. The same methodology can be applied in accordance to demands as applicable. This case is also applicable for anyone interested in exploring starting or locating a new business in any city. Lastly, it can also serve as a good practical exercise to develop Data Science skills."
   ]
  },
  {
   "cell_type": "code",
   "execution_count": null,
   "metadata": {},
   "outputs": [],
   "source": []
  }
 ],
 "metadata": {
  "kernelspec": {
   "display_name": "Python 3",
   "language": "python",
   "name": "python3"
  },
  "language_info": {
   "codemirror_mode": {
    "name": "ipython",
    "version": 3
   },
   "file_extension": ".py",
   "mimetype": "text/x-python",
   "name": "python",
   "nbconvert_exporter": "python",
   "pygments_lexer": "ipython3",
   "version": "3.7.6"
  }
 },
 "nbformat": 4,
 "nbformat_minor": 4
}
